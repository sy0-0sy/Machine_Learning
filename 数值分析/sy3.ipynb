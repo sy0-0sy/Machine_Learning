{
 "cells": [
  {
   "cell_type": "code",
   "execution_count": 156,
   "id": "50a0152f",
   "metadata": {},
   "outputs": [],
   "source": [
    "import sympy as sy\n",
    "import numpy as np\n",
    "import math\n",
    "#fname为被积函数;a,b为积分上下限;e为精度 默认为1e-4\n",
    "def romberg(a,b,e=1e-4):\n",
    "    x=sy.Symbol('x')\n",
    "    fname=sy.sin(x**2)/x\n",
    "    i=0;j=0;h=b-a\n",
    "    T=np.zeros((4,4))\n",
    "    T[i,0]=(float(h)/2.0)*float((fname.evalf(subs={x:a})+fname.evalf(subs={x:b})))\n",
    "    l=a+h/2\n",
    "    r=b-h/2+0.0001*h\n",
    "    i1=l\n",
    "    mysum=0\n",
    "    while(True):\n",
    "        mysum += float(fname.evalf(subs={x:i1}))\n",
    "        if(i1+h>r):break;\n",
    "        i1=i1+1\n",
    "    T[i+1,0]=T[i,0]/2+h/2.0 * mysum\n",
    "    T[i+1,j+1]=(4**(j+1)*T[i+1,j])/(4**(j+1)-1)-T[i,j]/(4**(j+1)-1)\n",
    "    while(abs(T[i+1,i+1]-T[i,i])>e):\n",
    "        i += 1;h = h/2.0\n",
    "        l=a+h/2\n",
    "        r=b-h/2+0.0001*h\n",
    "        i1=l\n",
    "        mysum=0\n",
    "        while(True):\n",
    "            mysum += float(fname.evalf(subs={x:i1}))\n",
    "            if(i1+h>r):break;\n",
    "            i1=i1+h\n",
    "        T[i+1,0]=T[i,0]/2+h/2.0 * mysum\n",
    "        for j in range(0,i+1):\n",
    "            T[i+1,j+1]=4**(j+1)*T[i+1,j]/(4**(j+1)-1)-T[i,j]/(4**(j+1)-1)\n",
    "    t=T[i+1,j+1]\n",
    "    return T,t         "
   ]
  },
  {
   "cell_type": "code",
   "execution_count": 157,
   "id": "dc0fe5d9",
   "metadata": {},
   "outputs": [
    {
     "name": "stdout",
     "output_type": "stream",
     "text": [
      "龙贝格求积T表如下\n",
      "[[0.4207355 0.        0.        0.       ]\n",
      " [0.4577717 0.4701171 0.        0.       ]\n",
      " [0.4691127 0.4728931 0.4730781 0.       ]\n",
      " [0.4720529 0.473033  0.4730423 0.4730417]]\n"
     ]
    }
   ],
   "source": [
    "T,t=romberg(0,1)\n",
    "for i in range(4):\n",
    "    for j in range(4):\n",
    "        if(T[i,j]!=0.0):\n",
    "            T[i,j]=float('{0:.7g}'.format(T[i,j])) #保留7位有效数字\n",
    "print('龙贝格求积T表如下')\n",
    "print(T)"
   ]
  },
  {
   "cell_type": "code",
   "execution_count": 158,
   "id": "3a7c31d8",
   "metadata": {},
   "outputs": [],
   "source": [
    "#realVal\n",
    "x=sy.Symbol('x')\n",
    "fname=sy.sin(x**2)/x\n",
    "realval=float(sy.integrate(fname,(x,0,1)))"
   ]
  },
  {
   "cell_type": "code",
   "execution_count": 159,
   "id": "830e3348",
   "metadata": {
    "scrolled": true
   },
   "outputs": [
    {
     "name": "stdout",
     "output_type": "stream",
     "text": [
      "精确值参考是: 0.4730415\n",
      "龙贝格求积值是: 0.4730417\n",
      "误差是否小于1e-4? True\n"
     ]
    }
   ],
   "source": [
    "#保留7位有效数字\n",
    "realval=float('{0:.7g}'.format(realval))\n",
    "print('精确值参考是: {}'.format(realval))\n",
    "t=float('{0:.7g}'.format(t))\n",
    "print('龙贝格求积值是: {}'.format(t))\n",
    "print('误差是否小于1e-4? {}'.format(abs(realval-t) < 1e-4))"
   ]
  }
 ],
 "metadata": {
  "kernelspec": {
   "display_name": "Python 3 (ipykernel)",
   "language": "python",
   "name": "python3"
  },
  "language_info": {
   "codemirror_mode": {
    "name": "ipython",
    "version": 3
   },
   "file_extension": ".py",
   "mimetype": "text/x-python",
   "name": "python",
   "nbconvert_exporter": "python",
   "pygments_lexer": "ipython3",
   "version": "3.8.2"
  }
 },
 "nbformat": 4,
 "nbformat_minor": 5
}
