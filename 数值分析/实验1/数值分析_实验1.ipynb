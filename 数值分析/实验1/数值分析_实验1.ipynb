{
 "cells": [
  {
   "cell_type": "code",
   "execution_count": 28,
   "id": "f6ed8c54",
   "metadata": {},
   "outputs": [
    {
     "name": "stdout",
     "output_type": "stream",
     "text": [
      "π的近似值取：3.1415929203540\n",
      "\n",
      "e的近似值取：0.0000002667642\n",
      "\n",
      "6位有效数字的e为：2.66764e-07\n"
     ]
    }
   ],
   "source": [
    "import math\n",
    "import sympy as sy\n",
    "import matplotlib.pyplot as plt\n",
    "import numpy as np\n",
    "\n",
    "plt.rcParams['font.sans-serif'] = ['Arial Unicode MS'] #显示中文\n",
    "x = 355 / 113 # 得到一个可当精确值的近似值\n",
    "x1=float('{0:.13f}'.format(x))\n",
    "print('π的近似值取：{0:.13f}\\n'.format(x))\n",
    "# 求绝对误差，一般取正\n",
    "e = abs(x - math.pi)  # 定义上的绝对误差\n",
    "print('e的近似值取：{0:.13f}\\n'.format(e))\n",
    "a = float('{0:.6g}'.format(e)) # 求出绝对误差 保留6位有效数字\n",
    "print('6位有效数字的e为：{}'.format(a))"
   ]
  },
  {
   "cell_type": "markdown",
   "id": "65c85f36",
   "metadata": {},
   "source": [
    "求绝对误差限，比误差限大，但要尽可能小\\\n",
    "要考虑科学计数法带来的影响，有三种情况\n",
    "- 有小数点，也有e\n",
    "- 有小数点，没有e\n",
    "- 没有小数点，没有e （整数）"
   ]
  },
  {
   "cell_type": "code",
   "execution_count": 29,
   "id": "73bab3a1",
   "metadata": {},
   "outputs": [
    {
     "name": "stdout",
     "output_type": "stream",
     "text": [
      "7.0\n",
      "5\n",
      "12.0\n",
      "绝对误差限可取: 0.0000002667650\n",
      "\n"
     ]
    }
   ],
   "source": [
    "if a >= e:\n",
    "    epsilon = a\n",
    "if a < e:\n",
    "    b = str(a)\n",
    "    if b.find('e', 1) == -1 and b.find('.') != -1: # 没有e 有小数点\n",
    "        weishu = len(b) - b.find('.') - 1\n",
    "    elif b.find('e', 1) != -1: # 有e\n",
    "        ff = b[b.find('e') + 2:]\n",
    "        print(float(ff))\n",
    "        tmp = b.find('e') - b.find('.') - 1\n",
    "        print(tmp)\n",
    "        weishu = float(ff) + tmp\n",
    "        print(weishu)\n",
    "    elif b.find('e', 1) == -1 and b.find('.') == -1: # 没有小数 没有小数点\n",
    "        weishu = 0\n",
    "    epsilon = a + 0.1 ** weishu\n",
    "print(\"绝对误差限可取: {0:.13f}\\n\".format(epsilon))"
   ]
  },
  {
   "cell_type": "markdown",
   "id": "7a7d4a46",
   "metadata": {},
   "source": [
    "计算有效数字位数"
   ]
  },
  {
   "cell_type": "code",
   "execution_count": 30,
   "id": "1b1f0bd9",
   "metadata": {},
   "outputs": [
    {
     "name": "stdout",
     "output_type": "stream",
     "text": [
      "3.141593e+00\n",
      "0\n",
      "有效数字位数为：7\n"
     ]
    }
   ],
   "source": [
    "tmp = '{0:e}'.format(float(x1)) # 转化为科学计数法\n",
    "print(tmp)\n",
    "m = int(tmp[tmp.find('e') + 1:]) # 截取e后面的字符串并转化为int\n",
    "print(m)\n",
    "n = math.floor(m + 1 - math.log(2 * e, 10.0)) # 向下取整\n",
    "print('有效数字位数为：{}'.format(n))"
   ]
  },
  {
   "cell_type": "markdown",
   "id": "9d251ca5",
   "metadata": {},
   "source": [
    "计算积分真值，存入realVal列表中"
   ]
  },
  {
   "cell_type": "code",
   "execution_count": 31,
   "id": "5408bb75",
   "metadata": {},
   "outputs": [
    {
     "name": "stdout",
     "output_type": "stream",
     "text": [
      "[0.059017540879297774, 0.0557193459312356, 0.05277111916899476, 0.0477227557962091, 0.045544884075818054]\n"
     ]
    }
   ],
   "source": [
    "x = sy.symbols('x')\n",
    "realVal = []\n",
    "X=[15, 16, 17, 19, 20]\n",
    "for i in X:\n",
    "    f = 'x^{}*exp(x-1)'.format(i)\n",
    "    realVal.append(float(sy.integrate(f, (x, 0, 1))))\n",
    "print(realVal)"
   ]
  },
  {
   "cell_type": "markdown",
   "id": "6c2cc170",
   "metadata": {},
   "source": [
    "不同的递推方法求积分，并画出积分曲线图\n",
    "- 正推法\n",
    "- 倒推法"
   ]
  },
  {
   "cell_type": "code",
   "execution_count": 32,
   "id": "c945f5d6",
   "metadata": {},
   "outputs": [],
   "source": [
    "# 正推法\n",
    "N = 20\n",
    "I = np.zeros((3,20)) # 创建3行N列的矩阵\n",
    "I0 = 1.0 - math.exp(-1)\n",
    "I[0][0] = 1 - I0\n",
    "f_real = 'x^1*exp(x-1)'\n",
    "I[1][0] = float(sy.integrate(f_real,(x,0,1)))\n",
    "for i in range(1,N): # 注意下标与matlib，从0开始 故 i+1=n\n",
    "    I[0][i] = 1 - I[0][i-1]*(i+1) #正推法\n",
    "    f_real = 'x^{}*exp(x-1)'.format(i+1)\n",
    "    I[1][i] = sy.integrate(f_real,(x,0,1)) # 计算真值"
   ]
  },
  {
   "cell_type": "code",
   "execution_count": 33,
   "id": "c4c4149a",
   "metadata": {},
   "outputs": [
    {
     "name": "stdout",
     "output_type": "stream",
     "text": [
      "0.03108816911753278\n",
      "0.046138658613450824\n"
     ]
    },
    {
     "data": {
      "text/plain": [
       "array([[ 3.67879441e-01,  2.64241118e-01,  2.07276647e-01,\n",
       "         1.70893412e-01,  1.45532941e-01,  1.26802357e-01,\n",
       "         1.12383504e-01,  1.00931967e-01,  9.16122930e-02,\n",
       "         8.38770701e-02,  7.73522294e-02,  7.17732477e-02,\n",
       "         6.69477800e-02,  6.27310804e-02,  5.90337936e-02,\n",
       "         5.54593017e-02,  5.71918706e-02, -2.94536708e-02,\n",
       "         1.55961974e+00, -3.01923949e+01],\n",
       "       [ 3.67879441e-01,  2.64241118e-01,  2.07276647e-01,\n",
       "         1.70893412e-01,  1.45532941e-01,  1.26802357e-01,\n",
       "         1.12383504e-01,  1.00931967e-01,  9.16122930e-02,\n",
       "         8.38770701e-02,  7.73522289e-02,  7.17732536e-02,\n",
       "         6.69477026e-02,  6.27321639e-02,  5.90175409e-02,\n",
       "         5.57193459e-02,  5.27711192e-02,  5.01198550e-02,\n",
       "         4.77227558e-02,  4.55448841e-02],\n",
       "       [ 0.00000000e+00,  0.00000000e+00,  0.00000000e+00,\n",
       "         0.00000000e+00,  0.00000000e+00,  0.00000000e+00,\n",
       "         0.00000000e+00,  0.00000000e+00,  0.00000000e+00,\n",
       "         0.00000000e+00,  0.00000000e+00,  0.00000000e+00,\n",
       "         0.00000000e+00,  0.00000000e+00,  5.90175406e-02,\n",
       "         5.57193510e-02,  5.27710324e-02,  5.01214175e-02,\n",
       "         4.76930671e-02,  4.61386586e-02]])"
      ]
     },
     "execution_count": 33,
     "metadata": {},
     "output_type": "execute_result"
    }
   ],
   "source": [
    "# 逆推法\n",
    "I_21 = ((math.exp(-1)/(21+1)) + 1/(21+1))*0.5\n",
    "print(I_21)\n",
    "I[2][N-1]=(1-I_21)/(N+1)\n",
    "print(I[2][N-1])\n",
    "for i in range(N-2,13,-1):\n",
    "    I[2][i]=(1-I[2][i+1])/(i+2)\n",
    "I"
   ]
  },
  {
   "cell_type": "markdown",
   "id": "69453ec2",
   "metadata": {},
   "source": [
    "**绘图**\\\n",
    "n=2 n=5 n=8"
   ]
  },
  {
   "cell_type": "code",
   "execution_count": 34,
   "id": "5d825638",
   "metadata": {
    "scrolled": true
   },
   "outputs": [
    {
     "data": {
      "text/plain": [
       "Text(0.5, 1.0, '积分对应的几何含义图形')"
      ]
     },
     "execution_count": 34,
     "metadata": {},
     "output_type": "execute_result"
    },
    {
     "data": {
      "image/png": "[encoded data removed]",
      "text/plain": [
       "<Figure size 432x288 with 1 Axes>"
      ]
     },
     "metadata": {
      "needs_background": "light"
     },
     "output_type": "display_data"
    }
   ],
   "source": [
    "x = np.linspace(0,1,1000) # 0-1间取1000个点\n",
    "y1 = x**2*np.exp(x-1)\n",
    "y2 = x**5*np.exp(x-1)\n",
    "y3 = x**8*np.exp(x-1)\n",
    "%matplotlib inline\n",
    "plt.plot(x,y1,color = 'r',label = 'n=2')\n",
    "plt.plot(x,y2,color = 'g',label = 'n=5')\n",
    "plt.plot(x,y3,color = 'b',label = 'n=8')\n",
    "plt.legend()\n",
    "plt.xlabel('定积分 0-1')\n",
    "plt.ylabel('In')\n",
    "plt.title('积分对应的几何含义图形')"
   ]
  },
  {
   "cell_type": "code",
   "execution_count": null,
   "id": "2e1a1d35",
   "metadata": {},
   "outputs": [],
   "source": []
  }
 ],
 "metadata": {
  "kernelspec": {
   "display_name": "Python 3 (ipykernel)",
   "language": "python",
   "name": "python3"
  },
  "language_info": {
   "codemirror_mode": {
    "name": "ipython",
    "version": 3
   },
   "file_extension": ".py",
   "mimetype": "text/x-python",
   "name": "python",
   "nbconvert_exporter": "python",
   "pygments_lexer": "ipython3",
   "version": "3.8.2"
  }
 },
 "nbformat": 4,
 "nbformat_minor": 5
}
